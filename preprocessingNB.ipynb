{
 "cells": [
  {
   "cell_type": "markdown",
   "id": "cfcfc2ad-6629-498d-93c8-9f44d720cef6",
   "metadata": {},
   "source": [
    "## Separating images and text for separte processing"
   ]
  },
  {
   "cell_type": "code",
   "execution_count": 3,
   "id": "f5d5a1f5-3ed8-42c3-a89f-708a1f6fe556",
   "metadata": {},
   "outputs": [
    {
     "name": "stdout",
     "output_type": "stream",
     "text": [
      "Files have been organized into respective folders.\n"
     ]
    }
   ],
   "source": [
    "import os\n",
    "import shutil\n",
    "\n",
    "# Define source folder\n",
    "source_folder = \"/Users/uttamsingh/Documents/Graduate/Fall2024/MVSA_Single/data\"\n",
    "\n",
    "# Define destination folders\n",
    "image_folder = \"/Users/uttamsingh/Documents/Graduate/Fall2024/MVSA_Single/data/images\"\n",
    "text_folder = \"/Users/uttamsingh/Documents/Graduate/Fall2024/MVSA_Single/data/texts\"\n",
    "\n",
    "# Create destination folders if they don't exist\n",
    "os.makedirs(image_folder, exist_ok=True)\n",
    "os.makedirs(text_folder, exist_ok=True)\n",
    "\n",
    "# Define extensions for image and text files\n",
    "image_extensions = {\".jpg\"}\n",
    "text_extensions = {\".txt\"}\n",
    "\n",
    "# Iterate over files in the source folder\n",
    "for file_name in os.listdir(source_folder):\n",
    "    file_path = os.path.join(source_folder, file_name)\n",
    "\n",
    "    # Skip if not a file\n",
    "    if not os.path.isfile(file_path):\n",
    "        continue\n",
    "\n",
    "    # Determine the file extension\n",
    "    file_extension = os.path.splitext(file_name)[1].lower()\n",
    "\n",
    "    # Move files to respective folders\n",
    "    if file_extension in image_extensions:\n",
    "        shutil.move(file_path, os.path.join(image_folder, file_name))\n",
    "    elif file_extension in text_extensions:\n",
    "        shutil.move(file_path, os.path.join(text_folder, file_name))\n",
    "\n",
    "print(\"Files have been organized into respective folders.\")\n"
   ]
  },
  {
   "cell_type": "markdown",
   "id": "653452b9-b073-478f-8e6a-4f34a35c590b",
   "metadata": {},
   "source": [
    "## Separate labels in Single view pattern"
   ]
  },
  {
   "cell_type": "code",
   "execution_count": 54,
   "id": "ee45f325-e500-4c69-abce-180d15c176d8",
   "metadata": {},
   "outputs": [
    {
     "name": "stdout",
     "output_type": "stream",
     "text": [
      "Converted /Users/uttamsingh/Documents/Graduate/Fall2024/MVSA_Single/labelResultAll.txt to /Users/uttamsingh/Documents/Graduate/Fall2024/MVSA_Single/labelResultAll.csv.\n"
     ]
    }
   ],
   "source": [
    "import csv\n",
    "\n",
    "# Define file paths\n",
    "txt_file_path = \"/Users/uttamsingh/Documents/Graduate/Fall2024/MVSA_Single/labelResultAll.txt\"\n",
    "csv_file_path = \"/Users/uttamsingh/Documents/Graduate/Fall2024/MVSA_Single/labelResultAll.csv\"\n",
    "\n",
    "# Read the .txt file\n",
    "with open(txt_file_path, \"r\") as txt_file:\n",
    "    lines = txt_file.readlines()\n",
    "\n",
    "# Convert and write to .csv\n",
    "with open(csv_file_path, \"w\", newline=\"\") as csv_file:\n",
    "    writer = csv.writer(csv_file)\n",
    "    \n",
    "    # Process each line in the .txt file\n",
    "    for line in lines:\n",
    "        # Split the line into columns (e.g., by spaces or tabs)\n",
    "        row = line.strip().split()  # Modify delimiter as needed\n",
    "        writer.writerow(row)\n",
    "\n",
    "print(f\"Converted {txt_file_path} to {csv_file_path}.\")\n"
   ]
  },
  {
   "cell_type": "code",
   "execution_count": 56,
   "id": "5cd448eb-07e1-4ebd-bab0-00fdeee41a53",
   "metadata": {},
   "outputs": [
    {
     "name": "stdout",
     "output_type": "stream",
     "text": [
      "Column split and saved to /Users/uttamsingh/Documents/Graduate/Fall2024/MVSA_Single/labelResultAll.csv.\n"
     ]
    }
   ],
   "source": [
    "import pandas as pd\n",
    "\n",
    "# Define file paths\n",
    "input_csv_path = \"/Users/uttamsingh/Documents/Graduate/Fall2024/MVSA_Single/labelResultAll.csv\"\n",
    "output_csv_path = \"/Users/uttamsingh/Documents/Graduate/Fall2024/MVSA_Single/labelResultAll.csv\"\n",
    "\n",
    "# Read the CSV file\n",
    "df = pd.read_csv(input_csv_path)\n",
    "\n",
    "# Specify the column to split (replace 'ColumnToSplit' with your column name)\n",
    "column_to_split = df.columns[1]\n",
    "\n",
    "# Split the column into two new columns\n",
    "\n",
    "df[['text','image']] = df[column_to_split].str.split(',', expand=True)\n",
    "df.to_csv(output_csv_path, index=False)\n",
    "\n",
    "\n",
    "print(f\"Column split and saved to {output_csv_path}.\")\n"
   ]
  },
  {
   "cell_type": "code",
   "execution_count": 58,
   "id": "d04f3314-c209-4c8f-8b25-f389fa362567",
   "metadata": {},
   "outputs": [],
   "source": [
    "df = pd.read_csv(input_csv_path)\n",
    "df = df.drop(columns = [column_to_split])\n",
    "df.to_csv(output_csv_path, index=False)"
   ]
  },
  {
   "cell_type": "code",
   "execution_count": null,
   "id": "8b05ef5d-30b7-4577-8c6a-453038b6962f",
   "metadata": {},
   "outputs": [],
   "source": []
  }
 ],
 "metadata": {
  "kernelspec": {
   "display_name": "Python 3 (ipykernel)",
   "language": "python",
   "name": "python3"
  },
  "language_info": {
   "codemirror_mode": {
    "name": "ipython",
    "version": 3
   },
   "file_extension": ".py",
   "mimetype": "text/x-python",
   "name": "python",
   "nbconvert_exporter": "python",
   "pygments_lexer": "ipython3",
   "version": "3.12.4"
  }
 },
 "nbformat": 4,
 "nbformat_minor": 5
}
